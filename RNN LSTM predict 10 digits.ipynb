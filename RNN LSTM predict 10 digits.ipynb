{
 "cells": [
  {
   "cell_type": "code",
   "execution_count": 1,
   "id": "2701fd8e",
   "metadata": {},
   "outputs": [],
   "source": [
    "# Importing the Libraries\n",
    "\n",
    "from numpy import array\n",
    "from tensorflow.keras import Sequential\n",
    "from tensorflow.keras.layers import Dense,LSTM\n"
   ]
  },
  {
   "cell_type": "code",
   "execution_count": 2,
   "id": "244b076d",
   "metadata": {},
   "outputs": [],
   "source": [
    "# split a univariate sequence into samples\n",
    "\n",
    "def split_sequence(sequence, n_steps):\n",
    "    X, y = list(), list()\n",
    "    for i in range(len(sequence)):\n",
    "        # find the end of this pattern\n",
    "        end_ix = i + n_steps\n",
    "        # check if we are beyond the sequence\n",
    "        if end_ix > len(sequence)-1:\n",
    "            break\n",
    "        # gather input and output parts of the pattern\n",
    "        seq_x, seq_y = sequence[i:end_ix], sequence[end_ix]\n",
    "        X.append(seq_x)\n",
    "        y.append(seq_y)\n",
    "    return array(X), array(y)"
   ]
  },
  {
   "cell_type": "code",
   "execution_count": 3,
   "id": "39facf80",
   "metadata": {},
   "outputs": [],
   "source": [
    "# define input sequence\n",
    "\n",
    "raw_seq = [110,125,133,146,158,172,187,196,210]\n",
    "\n",
    "# choose a number of time steps\n",
    "\n",
    "n_steps = 3\n",
    "\n",
    "# split into samples\n",
    "\n",
    "X, y = split_sequence(raw_seq, n_steps)\n",
    "\n",
    "# reshape from [samples, timesteps] into [samples, timesteps, features]\n",
    "\n",
    "n_features = 1\n",
    "X = X.reshape((X.shape[0], X.shape[1], n_features))\n"
   ]
  },
  {
   "cell_type": "code",
   "execution_count": 4,
   "id": "53719f65",
   "metadata": {},
   "outputs": [],
   "source": [
    "# Building the model\n",
    "\n",
    "model = Sequential()\n",
    "model.add(LSTM(50, activation='relu', input_shape=(n_steps, n_features)))\n",
    "model.add(Dense(1))\n",
    "model.compile(optimizer='adam', loss='mse')"
   ]
  },
  {
   "cell_type": "code",
   "execution_count": 5,
   "id": "b3d27413",
   "metadata": {},
   "outputs": [
    {
     "data": {
      "text/plain": [
       "<keras.callbacks.History at 0x1b80c265730>"
      ]
     },
     "execution_count": 5,
     "metadata": {},
     "output_type": "execute_result"
    }
   ],
   "source": [
    "# fitting the model\n",
    "\n",
    "model.fit(X, y, epochs=200, verbose=0)"
   ]
  },
  {
   "cell_type": "code",
   "execution_count": 6,
   "id": "27434740",
   "metadata": {},
   "outputs": [],
   "source": [
    "# demonstrate prediction\n",
    "\n",
    "x_input = array([187,196,210])\n",
    "temp_input=list(x_input)\n",
    "output=[]\n",
    "i=0"
   ]
  },
  {
   "cell_type": "code",
   "execution_count": 16,
   "id": "3d76c622",
   "metadata": {},
   "outputs": [
    {
     "name": "stdout",
     "output_type": "stream",
     "text": [
      "[230.16266, 245.66669, 264.8799, 286.52444, 307.84793, 331.96173, 357.98685, 385.44568, 415.49313, 447.7997]\n"
     ]
    }
   ],
   "source": [
    "while(i,10):\n",
    "    if(len(temp_input)>3):\n",
    "        x_input=array(temp_input[1:])\n",
    "        x_input=x_input.reshape(1,n_steps,n_features)\n",
    "        yhat=model.predict(x_input,verbose=0)\n",
    "        temp_input.append(yhat[0][0])\n",
    "        temp_input=temp_input[1:]\n",
    "        output.append(yhat[0][0])\n",
    "        i=i+1\n",
    "        break\n",
    "    else:\n",
    "        x_input=x_input.reshape(1,n_steps,n_features)\n",
    "        yhat=model.predict(x_input,verbose=0)\n",
    "        temp_input.append(yhat[0][0])\n",
    "        output.append(yhat[0][0])\n",
    "        i=i+1\n",
    "        break\n",
    "print(output)"
   ]
  },
  {
   "cell_type": "code",
   "execution_count": null,
   "id": "4cadea36",
   "metadata": {},
   "outputs": [],
   "source": [
    "# Result : In this model, LSTM is used to predict next 10 digits."
   ]
  },
  {
   "cell_type": "code",
   "execution_count": null,
   "id": "b47274cc",
   "metadata": {},
   "outputs": [],
   "source": []
  }
 ],
 "metadata": {
  "kernelspec": {
   "display_name": "Python 3 (ipykernel)",
   "language": "python",
   "name": "python3"
  },
  "language_info": {
   "codemirror_mode": {
    "name": "ipython",
    "version": 3
   },
   "file_extension": ".py",
   "mimetype": "text/x-python",
   "name": "python",
   "nbconvert_exporter": "python",
   "pygments_lexer": "ipython3",
   "version": "3.9.13"
  }
 },
 "nbformat": 4,
 "nbformat_minor": 5
}
